{
 "cells": [
  {
   "cell_type": "code",
   "execution_count": 1,
   "metadata": {},
   "outputs": [],
   "source": [
    "import matplotlib.pyplot as plt\n",
    "import numpy as np\n",
    "from scipy.interpolate import UnivariateSpline\n",
    "from halotools.sim_manager import CachedHaloCatalog\n",
    "from halotools.mock_observables import tpcf_multipole\n",
    "from halotools.mock_observables import mean_radial_velocity_vs_r, radial_pvd_vs_r\n",
    "\n",
    "from gsm.measurements import compute_real_tpcf, compute_tpcf_s_mu\n",
    "from gsm.models.gaussian.from_radial_transverse import moments2gaussian\n",
    "from gsm.streaming_integral import real2redshift"
   ]
  },
  {
   "cell_type": "code",
   "execution_count": 2,
   "metadata": {},
   "outputs": [],
   "source": [
    "plt.style.use(['science','notebook'])\n",
    "plt.style.reload_library()"
   ]
  },
  {
   "cell_type": "markdown",
   "metadata": {},
   "source": [
    "## Get halo catalogue"
   ]
  },
  {
   "cell_type": "code",
   "execution_count": 3,
   "metadata": {},
   "outputs": [],
   "source": [
    "halocat = CachedHaloCatalog()\n",
    "# You'll need to download the halo catalogue if you want this to work!"
   ]
  },
  {
   "cell_type": "code",
   "execution_count": 4,
   "metadata": {},
   "outputs": [],
   "source": [
    "halos = halocat.halo_table\n",
    "mask = (\n",
    "    (halos['halo_mvir'] > 1.e12) \n",
    "    & (halos['halo_mvir'] < 2e15) \n",
    "    & (halos['halo_upid'] == -1)\n",
    ")\n",
    "halos = halos[mask]"
   ]
  },
  {
   "cell_type": "code",
   "execution_count": 5,
   "metadata": {},
   "outputs": [],
   "source": [
    "x = halos['halo_x']\n",
    "y = halos['halo_y']\n",
    "z = halos['halo_z']\n",
    "positions = np.vstack((x,y,z)).T\n",
    "vx = halos['halo_vx']\n",
    "vy = halos['halo_vy']\n",
    "vz = halos['halo_vz']\n",
    "velocities = np.vstack((vx,vy,vz)).T\n"
   ]
  },
  {
   "cell_type": "markdown",
   "metadata": {},
   "source": [
    "## Compute pairwise velocity moments (in Mpc/h)"
   ]
  },
  {
   "cell_type": "code",
   "execution_count": null,
   "metadata": {},
   "outputs": [],
   "source": [
    "%%time\n",
    "rbins = np.linspace(0.001, 80, 60)\n",
    "rbins_c = 0.5*(rbins[1:] + rbins[:-1])\n",
    "v_12 = mean_radial_velocity_vs_r(positions, velocities, \n",
    "                                rbins_absolute=rbins,\n",
    "                                period=halocat.Lbox,\n",
    "                                )\n",
    "v_12 *= (1. + halocat.redshift)/100./halocat.cosmology.efunc(\n",
    "    halocat.redshift\n",
    ")\n",
    "# to Mpc/h\n",
    "\n",
    "sigma_12 = radial_pvd_vs_r(positions, velocities,\n",
    "                           rbins_absolute=rbins, \n",
    "                           period=halocat.Lbox)[1]\n",
    "sigma_12 *= (1. + halocat.redshift)/100./halocat.cosmology.efunc(\n",
    "    halocat.redshift\n",
    ")\n",
    "\n",
    "s_12_r = sigma_12"
   ]
  },
  {
   "cell_type": "code",
   "execution_count": null,
   "metadata": {},
   "outputs": [],
   "source": [
    "# TODO: use Enrique's modification to halotools to compute s_12_t\n",
    "s_12_t = s_12_r + 1.5"
   ]
  },
  {
   "cell_type": "code",
   "execution_count": null,
   "metadata": {},
   "outputs": [],
   "source": [
    "plt.plot(rbins_c, v_12)\n",
    "plt.ylabel(r'$v_{12}$(r) [Mpc/h]')\n",
    "plt.xlabel(r'r [Mpc/h]')"
   ]
  },
  {
   "cell_type": "code",
   "execution_count": null,
   "metadata": {},
   "outputs": [],
   "source": [
    "plt.plot(rbins_c, s_12_r, label='Radial')\n",
    "plt.plot(rbins_c, s_12_t, label='Transverse')\n",
    "plt.ylabel(r'$\\sigma_{12}$(r) [Mpc/h]')\n",
    "plt.xlabel(r'r [Mpc/h]')\n",
    "plt.legend()"
   ]
  },
  {
   "cell_type": "markdown",
   "metadata": {},
   "source": [
    "## Compute real and redshift space correlation functions"
   ]
  },
  {
   "cell_type": "code",
   "execution_count": null,
   "metadata": {},
   "outputs": [],
   "source": [
    "mu_bins = np.linspace(0,1,120)"
   ]
  },
  {
   "cell_type": "code",
   "execution_count": null,
   "metadata": {},
   "outputs": [],
   "source": [
    "%%time\n",
    "real_tpcf = compute_real_tpcf(rbins, positions,\n",
    "                              boxsize=halocat.Lbox)\n",
    "s_mu_tpcf = compute_tpcf_s_mu(rbins, mu_bins, positions, \n",
    "                              velocities, los_direction=2,\n",
    "                              redshift=0.,\n",
    "                              cosmology=halocat.cosmology,\n",
    "                              boxsize=halocat.Lbox)\n",
    "\n"
   ]
  },
  {
   "cell_type": "code",
   "execution_count": null,
   "metadata": {},
   "outputs": [],
   "source": [
    "monopole = tpcf_multipole(s_mu_tpcf, mu_bins, order=0)\n",
    "quadrupole = tpcf_multipole(s_mu_tpcf, mu_bins, order=2)\n",
    "hexadecapole = tpcf_multipole(s_mu_tpcf, mu_bins, order=4)"
   ]
  },
  {
   "cell_type": "code",
   "execution_count": null,
   "metadata": {},
   "outputs": [],
   "source": [
    "plt.plot(rbins_c, rbins_c**2*real_tpcf,\n",
    "        label=r'$\\xi^R(r)$')\n",
    "plt.plot(rbins_c, rbins_c**2*monopole,\n",
    "        label=r'$\\xi^0(r)$')\n",
    "plt.plot(rbins_c, rbins_c**2*quadrupole,\n",
    "        label=r'$\\xi^2(r)$')\n",
    "plt.plot(rbins_c, rbins_c**2*hexadecapole,\n",
    "        label=r'$\\xi^4(r)$')\n",
    "plt.legend()\n",
    "plt.ylabel(r'$r^2\\xi(r)$')\n",
    "plt.xlabel('r [Mpc/h]')"
   ]
  },
  {
   "cell_type": "markdown",
   "metadata": {},
   "source": [
    "## Use Gaussian Streaming Model to perform real to redshift space mapping"
   ]
  },
  {
   "cell_type": "code",
   "execution_count": null,
   "metadata": {},
   "outputs": [],
   "source": [
    "gaussian = moments2gaussian(\n",
    "    m_10=UnivariateSpline(rbins_c, v_12,s=0,ext=3),\n",
    "    c_20=UnivariateSpline(rbins_c,s_12_r,s=0,ext=3),\n",
    "    c_02=UnivariateSpline(rbins_c,s_12_t,s=0,ext=3)\n",
    ")"
   ]
  },
  {
   "cell_type": "code",
   "execution_count": null,
   "metadata": {},
   "outputs": [],
   "source": [
    "vlos = np.linspace(-10.,7.,100)\n",
    "plt.plot(vlos, gaussian(vlos,r_perp=0.5,r_parallel=0.5)[0],\n",
    "        label=r'$(r_\\perp = 0.5, r_\\parallel = 0.5)$')\n",
    "plt.plot(vlos, gaussian(vlos,r_perp=30.,r_parallel=30.)[0],\n",
    "        label=r'$(r_\\perp = 30, r_\\parallel = 30)$')\n",
    "plt.plot(vlos, gaussian(vlos,r_perp=40.,r_parallel=40.)[0],\n",
    "        label=r'$(r_\\perp = 40, r_\\parallel = 40)$')\n",
    "plt.legend()\n",
    "plt.ylabel(r'$\\mathcal{P}(v_\\parallel) [Mpc/h]^{-1}$')\n",
    "plt.xlabel(r'$v_\\parallel [Mpc/h]$')"
   ]
  },
  {
   "cell_type": "code",
   "execution_count": null,
   "metadata": {},
   "outputs": [],
   "source": [
    "gaussian_s_mu = real2redshift.simps_integrate(\n",
    "    s=rbins, mu=mu_bins, \n",
    "    twopcf_function=UnivariateSpline(rbins_c, real_tpcf,s=0),\n",
    "    los_pdf_function=gaussian,\n",
    ")"
   ]
  },
  {
   "cell_type": "code",
   "execution_count": null,
   "metadata": {},
   "outputs": [],
   "source": [
    "gaussian_monopole = tpcf_multipole(gaussian_s_mu, mu_bins, \n",
    "                                   order=0)\n",
    "gaussian_quadrupole = tpcf_multipole(gaussian_s_mu, mu_bins, \n",
    "                                     order=2)\n",
    "gaussian_hexadecapole = tpcf_multipole(gaussian_s_mu, mu_bins, \n",
    "                                       order=4)"
   ]
  },
  {
   "cell_type": "code",
   "execution_count": null,
   "metadata": {},
   "outputs": [],
   "source": [
    "plt.plot(rbins_c, rbins_c**2*monopole,\n",
    "        label='Measured')\n",
    "plt.plot(rbins_c, rbins_c**2*gaussian_monopole,\n",
    "        label='GSM')\n",
    "plt.xlim(0,80) # if you want larger scales, extend the integration\n",
    "# limit on simps integrate + extend UnivariateSpline limits \n",
    "# for moments and correlation function, remember it is an integral!\n",
    "plt.ylim(-200,150)\n",
    "plt.legend()\n",
    "plt.ylabel(r'$r^2\\xi_0(r)$')\n",
    "plt.xlabel('r [Mpc/h]')"
   ]
  },
  {
   "cell_type": "code",
   "execution_count": null,
   "metadata": {},
   "outputs": [],
   "source": [
    "plt.plot(rbins_c, rbins_c**2*quadrupole,\n",
    "        label='Measured')\n",
    "plt.plot(rbins_c, rbins_c**2*gaussian_quadrupole,\n",
    "        label='GSM')\n",
    "plt.ylabel(r'$r^2\\xi_2(r)$')\n",
    "\n",
    "plt.xlim(0,70)\n",
    "plt.ylim(-200,150)\n",
    "plt.legend()"
   ]
  }
 ],
 "metadata": {
  "kernelspec": {
   "display_name": "Python 3",
   "language": "python",
   "name": "python3"
  },
  "language_info": {
   "codemirror_mode": {
    "name": "ipython",
    "version": 3
   },
   "file_extension": ".py",
   "mimetype": "text/x-python",
   "name": "python",
   "nbconvert_exporter": "python",
   "pygments_lexer": "ipython3",
   "version": "3.8.3"
  }
 },
 "nbformat": 4,
 "nbformat_minor": 4
}
